{
 "cells": [
  {
   "cell_type": "markdown",
   "id": "83558dc0-d65e-4d99-ad67-d6e02f760321",
   "metadata": {},
   "source": [
    "# Initialization"
   ]
  },
  {
   "cell_type": "code",
   "execution_count": 1,
   "id": "a3fa6fa9-dd56-44dd-8cee-57bfda38d9a5",
   "metadata": {},
   "outputs": [
    {
     "name": "stdout",
     "output_type": "stream",
     "text": [
      "Requirement already satisfied: tmdbsimple in /Users/kristansimbulan/opt/anaconda3/envs/dojo-env/lib/python3.10/site-packages (2.9.1)\n",
      "Requirement already satisfied: requests in /Users/kristansimbulan/opt/anaconda3/envs/dojo-env/lib/python3.10/site-packages (from tmdbsimple) (2.29.0)\n",
      "Requirement already satisfied: certifi>=2017.4.17 in /Users/kristansimbulan/opt/anaconda3/envs/dojo-env/lib/python3.10/site-packages (from requests->tmdbsimple) (2023.5.7)\n",
      "Requirement already satisfied: idna<4,>=2.5 in /Users/kristansimbulan/opt/anaconda3/envs/dojo-env/lib/python3.10/site-packages (from requests->tmdbsimple) (3.4)\n",
      "Requirement already satisfied: charset-normalizer<4,>=2 in /Users/kristansimbulan/opt/anaconda3/envs/dojo-env/lib/python3.10/site-packages (from requests->tmdbsimple) (2.0.4)\n",
      "Requirement already satisfied: urllib3<1.27,>=1.21.1 in /Users/kristansimbulan/opt/anaconda3/envs/dojo-env/lib/python3.10/site-packages (from requests->tmdbsimple) (1.26.15)\n"
     ]
    }
   ],
   "source": [
    "# Install tmdbsimple (only need to run once)\n",
    "!pip install tmdbsimple"
   ]
  },
  {
   "cell_type": "code",
   "execution_count": 2,
   "id": "efe28c83-43c9-4d62-bf4b-22671fe1149c",
   "metadata": {},
   "outputs": [],
   "source": [
    "# Import packages\n",
    "import os, time, json\n",
    "import tmdbsimple as tmdb \n",
    "import pandas as pd\n",
    "from tqdm.notebook import tqdm_notebook\n",
    "# Create the folder for saving files (if it doesn't exist)\n",
    "#FOLDER = \"Data/\"\n",
    "#os.makedirs(FOLDER, exist_ok=True)\n",
    "#os.listdir(FOLDER)"
   ]
  },
  {
   "cell_type": "code",
   "execution_count": 3,
   "id": "f04bdd64-b2d7-4e59-b35e-0c5295db92d2",
   "metadata": {},
   "outputs": [],
   "source": [
    "def create_json_file(JSON_FILE,  delete_if_exists=False):\n",
    "    \n",
    "    ## Check if JSON_FILE exists\n",
    "    file_exists = os.path.isfile(JSON_FILE)\n",
    "    \n",
    "    ## If it DOES exist:\n",
    "    if file_exists == True:\n",
    "        \n",
    "        ## Check if user wants to delete if exists\n",
    "        if delete_if_exists==True:\n",
    "            \n",
    "            print(f\"[!] {JSON_FILE} already exists. Deleting previous file...\")\n",
    "            ## delete file and confirm it no longer exits.\n",
    "            os.remove(JSON_FILE)\n",
    "            ## Recursive call to function after old file deleted\n",
    "            create_json_file(JSON_FILE,delete_if_exists=False)\n",
    "        else:\n",
    "            print(f\"[i] {JSON_FILE} already exists.\")            \n",
    "            \n",
    "            \n",
    "    ## If it does NOT exist:\n",
    "    else:\n",
    "        \n",
    "        ## INFORM USER AND SAVE EMPTY LIST\n",
    "        print(f\"Creating {JSON_FILE} for API results for {YEAR}.\")\n",
    "        \n",
    "        ## CREATE ANY NEEDED FOLDERS\n",
    "        # Get the Folder Name only\n",
    "        folder = os.path.dirname(JSON_FILE)\n",
    "        \n",
    "        ## If JSON_FILE included a folder:\n",
    "        if len(folder)>0:\n",
    "            # create the folder\n",
    "            os.makedirs(folder,exist_ok=True)\n",
    "        ## Save empty list to start the json file\n",
    "        with open(JSON_FILE,'w') as f:\n",
    "            json.dump([{'imdb_id':0}],f)  "
   ]
  },
  {
   "cell_type": "code",
   "execution_count": 4,
   "id": "56fbcdc4-ee80-495a-a441-a99ce234fa82",
   "metadata": {},
   "outputs": [],
   "source": [
    "# Define function to write to json file\n",
    "def write_json(new_data, filename): \n",
    "    \"\"\"Appends a list of records (new_data) to a json file (filename). \n",
    "    Adapted from: https://www.geeksforgeeks.org/append-to-json-file-using-python/\"\"\"  \n",
    "    \n",
    "    with open(filename,'r+') as file:\n",
    "        # First we load existing data into a dict.\n",
    "        file_data = json.load(file)\n",
    "        ## Choose extend or append\n",
    "        if (type(new_data) == list) & (type(file_data) == list):\n",
    "            file_data.extend(new_data)\n",
    "        else:\n",
    "             file_data.append(new_data)\n",
    "        # Sets file's current position at offset.\n",
    "        file.seek(0)\n",
    "        # convert back to json.\n",
    "        json.dump(file_data, file)"
   ]
  },
  {
   "cell_type": "code",
   "execution_count": 5,
   "id": "259f1fb0-1a07-44f9-892d-db983bb77776",
   "metadata": {},
   "outputs": [],
   "source": [
    "# Define a function that gets the movie with rating from TMDB database through its API\n",
    "def get_movie_with_rating(movie_id):\n",
    "    \"\"\" Adapted from source = https://github.com/celiao/tmdbsimple \"\"\"\n",
    "    # Get the movie object for the current id\n",
    "    movie = tmdb.Movies(movie_id)\n",
    "    # Save the .info and .releases dictionary\n",
    "    info = movie.info()\n",
    "    releases = movie.releases()\n",
    "    # Loop through the countries in releases\n",
    "    for c in releases['countries']:\n",
    "        # if the country abbreviation == US\n",
    "        if c['iso_3166_1'] == 'US':\n",
    "            ## Save a certification key in info with the certification\n",
    "            info['certification'] = c['certification']\n",
    "    return info"
   ]
  },
  {
   "cell_type": "markdown",
   "id": "9f7c5ce7-a829-4519-b0e6-ae41e422a48f",
   "metadata": {},
   "source": [
    "# Load Reference Data"
   ]
  },
  {
   "cell_type": "code",
   "execution_count": 6,
   "id": "2a4843ce-397f-48c9-8e62-54a78c6b2b2b",
   "metadata": {},
   "outputs": [],
   "source": [
    "# Load in the dataframe from project part 1 as basics:\n",
    "basics = pd.read_csv('Data/preprocessed-title-basics.csv')"
   ]
  },
  {
   "cell_type": "code",
   "execution_count": 7,
   "id": "b16a6703-03d4-4956-a4a9-d448b45be7d2",
   "metadata": {},
   "outputs": [],
   "source": [
    "# The year of movies to be retrieved\n",
    "YEAR = 2010\n",
    "# Create an errors variable \n",
    "errors = [ ]"
   ]
  },
  {
   "cell_type": "code",
   "execution_count": 8,
   "id": "55dd5d2f-251e-4122-8d75-3b71841de6c4",
   "metadata": {},
   "outputs": [],
   "source": [
    "#Saving new year as the current df\n",
    "df = basics.loc[ basics['start_year'] == YEAR].copy()\n",
    "# saving movie ids to separate variable\n",
    "movie_ids = df['tconst']"
   ]
  },
  {
   "cell_type": "markdown",
   "id": "176cfb37-c50e-4eb0-8c23-e3fa5c95dfb0",
   "metadata": {},
   "source": [
    "# JSON File"
   ]
  },
  {
   "cell_type": "code",
   "execution_count": 9,
   "id": "cbf3fd32-6ab9-42f6-bb2f-ef0a2177bae7",
   "metadata": {},
   "outputs": [
    {
     "name": "stdout",
     "output_type": "stream",
     "text": [
      "data will be saved to: tmdb_api_results_2010.json\n"
     ]
    }
   ],
   "source": [
    "#Defining the JSON file to store results for year\n",
    "JSON_FILE = f'tmdb_api_results_{YEAR}.json'\n",
    "print(f'data will be saved to: {JSON_FILE}')"
   ]
  },
  {
   "cell_type": "code",
   "execution_count": 10,
   "id": "81b6029e-5059-40e3-a90e-de0d4d740837",
   "metadata": {},
   "outputs": [
    {
     "name": "stdout",
     "output_type": "stream",
     "text": [
      "[i] tmdb_api_results_2010.json already exists.\n"
     ]
    }
   ],
   "source": [
    "# Create a JSON file\n",
    "create_json_file(JSON_FILE,  delete_if_exists=False)"
   ]
  },
  {
   "cell_type": "code",
   "execution_count": 11,
   "id": "7e3ce974-6daa-498c-8dfa-9241ce04a881",
   "metadata": {},
   "outputs": [],
   "source": [
    "# Load existing data from json into a dataframe called \"previous_df\"\n",
    "previous_df = pd.read_json(JSON_FILE)"
   ]
  },
  {
   "cell_type": "code",
   "execution_count": 12,
   "id": "953d210d-2132-402d-bb61-1a6b64cded27",
   "metadata": {},
   "outputs": [],
   "source": [
    "# filter out any ids that are already in the JSON_FILE\n",
    "movie_ids_to_get = movie_ids[~movie_ids.isin(previous_df['imdb_id'])]"
   ]
  },
  {
   "cell_type": "markdown",
   "id": "06b227fe-e5dc-4250-9c28-c4a1403b9348",
   "metadata": {},
   "source": [
    "# API Call"
   ]
  },
  {
   "cell_type": "code",
   "execution_count": 13,
   "id": "7d6c56fa-ce3a-40ad-b54d-e3ee5fe9d7b6",
   "metadata": {},
   "outputs": [
    {
     "data": {
      "text/plain": [
       "dict_keys(['api-key'])"
      ]
     },
     "execution_count": 13,
     "metadata": {},
     "output_type": "execute_result"
    }
   ],
   "source": [
    "# Using API Credentials\n",
    "with open('/Users/kristansimbulan/.secret/tmdb_api.json', 'r') as f:\n",
    "    login = json.load(f)\n",
    "## Display the keys of the loaded dict\n",
    "login.keys()"
   ]
  },
  {
   "cell_type": "code",
   "execution_count": 14,
   "id": "f21bed63-982c-4e82-a824-86189eafccec",
   "metadata": {},
   "outputs": [],
   "source": [
    "# Set API_KEY variable to the user's api-key \n",
    "import tmdbsimple as tmdb\n",
    "tmdb.API_KEY =  login['api-key']"
   ]
  },
  {
   "cell_type": "code",
   "execution_count": 15,
   "id": "678e93c2-2348-4ca3-96fd-0299de12bc88",
   "metadata": {},
   "outputs": [
    {
     "data": {
      "application/vnd.jupyter.widget-view+json": {
       "model_id": "7fa5018b08bf4e84bd40877d4e81f962",
       "version_major": 2,
       "version_minor": 0
      },
      "text/plain": [
       "Movies from 2010:   0%|          | 0/1115 [00:00<?, ?it/s]"
      ]
     },
     "metadata": {},
     "output_type": "display_data"
    },
    {
     "name": "stdout",
     "output_type": "stream",
     "text": [
      "- Total errors: 1115\n"
     ]
    }
   ],
   "source": [
    "# Loop through movie_ids_to_get with a tqdm progress bar\n",
    "for movie_id in tqdm_notebook(movie_ids_to_get, f\"Movies from {YEAR}\"):\n",
    "    #Get index and movie id from list\n",
    "    try:\n",
    "        # Retrieve then data for the movie id\n",
    "        temp = get_movie_with_rating(movie_id)  \n",
    "        # Append/extend results to existing file using a pre-made function\n",
    "        write_json(temp,JSON_FILE)\n",
    "        # Short 20 ms sleep to prevent overwhelming server\n",
    "        time.sleep(0.02)\n",
    "    \n",
    "    except Exception as e:\n",
    "        errors.append([movie_id, e])\n",
    "        \n",
    "print(f\"- Total errors: {len(errors)}\")"
   ]
  },
  {
   "cell_type": "code",
   "execution_count": 16,
   "id": "9271f002-748d-42bb-80e0-1810e3ee4790",
   "metadata": {},
   "outputs": [],
   "source": [
    "# Save the year's result as csv.gz file\n",
    "final_year_df = pd.read_json(JSON_FILE)\n",
    "final_year_df.to_csv(f\"final_tmdb_data_{YEAR}.csv.gz\", compression=\"gzip\", index=False)"
   ]
  }
 ],
 "metadata": {
  "kernelspec": {
   "display_name": "Python (dojo-env)",
   "language": "python",
   "name": "dojo-env"
  },
  "language_info": {
   "codemirror_mode": {
    "name": "ipython",
    "version": 3
   },
   "file_extension": ".py",
   "mimetype": "text/x-python",
   "name": "python",
   "nbconvert_exporter": "python",
   "pygments_lexer": "ipython3",
   "version": "3.10.10"
  }
 },
 "nbformat": 4,
 "nbformat_minor": 5
}
